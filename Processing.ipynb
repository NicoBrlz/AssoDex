{
 "cells": [
  {
   "cell_type": "markdown",
   "metadata": {},
   "source": [
    "Useful Libraries"
   ]
  },
  {
   "cell_type": "code",
   "execution_count": 1,
   "metadata": {},
   "outputs": [],
   "source": [
    "import pandas as pd\n",
    "import numpy as np"
   ]
  },
  {
   "cell_type": "markdown",
   "metadata": {},
   "source": [
    "Let's open the CSV created in Scrapping.ipyng"
   ]
  },
  {
   "cell_type": "code",
   "execution_count": 2,
   "metadata": {},
   "outputs": [
    {
     "data": {
      "text/html": [
       "<div>\n",
       "<style scoped>\n",
       "    .dataframe tbody tr th:only-of-type {\n",
       "        vertical-align: middle;\n",
       "    }\n",
       "\n",
       "    .dataframe tbody tr th {\n",
       "        vertical-align: top;\n",
       "    }\n",
       "\n",
       "    .dataframe thead th {\n",
       "        text-align: right;\n",
       "    }\n",
       "</style>\n",
       "<table border=\"1\" class=\"dataframe\">\n",
       "  <thead>\n",
       "    <tr style=\"text-align: right;\">\n",
       "      <th></th>\n",
       "      <th>asso</th>\n",
       "      <th>title</th>\n",
       "      <th>url</th>\n",
       "      <th>all_text</th>\n",
       "      <th>summary</th>\n",
       "      <th>key_words</th>\n",
       "    </tr>\n",
       "  </thead>\n",
       "  <tbody>\n",
       "    <tr>\n",
       "      <th>0</th>\n",
       "      <td>Secours Populaire</td>\n",
       "      <td>Urgences climatiques</td>\n",
       "      <td>https://www.secourspopulaire.fr/nos-actions/ur...</td>\n",
       "      <td>Protéger Dès lors qu’une catastrophe climatiqu...</td>\n",
       "      <td>(Source : Haut Commissariat de l’ONU pour les...</td>\n",
       "      <td>['populaire', 'secours populaire', 'secours', ...</td>\n",
       "    </tr>\n",
       "    <tr>\n",
       "      <th>1</th>\n",
       "      <td>Secours Populaire</td>\n",
       "      <td>Conflits</td>\n",
       "      <td>https://www.secourspopulaire.fr/nos-actions/co...</td>\n",
       "      <td>Protéger Face aux conflits armés, l’entraide e...</td>\n",
       "      <td>Distribution de colis alimentaires, de kits d...</td>\n",
       "      <td>['vie', 'urgence', 'secours', 'secours populai...</td>\n",
       "    </tr>\n",
       "    <tr>\n",
       "      <th>2</th>\n",
       "      <td>Secours Populaire</td>\n",
       "      <td>Aide aux migrants-réfugiés</td>\n",
       "      <td>https://www.secourspopulaire.fr/nos-actions/ai...</td>\n",
       "      <td>Protéger Chaque jour, des familles, des enfant...</td>\n",
       "      <td>Le Secours populaire se mobilise pour les aid...</td>\n",
       "      <td>['aide', 'secours', 'bénévoles', 'populaire', ...</td>\n",
       "    </tr>\n",
       "    <tr>\n",
       "      <th>3</th>\n",
       "      <td>Secours Populaire</td>\n",
       "      <td>Aide au logement</td>\n",
       "      <td>https://www.secourspopulaire.fr/nos-actions/ai...</td>\n",
       "      <td>Protéger Dans les permanences d'accueil, de so...</td>\n",
       "      <td>Protéger Dans les permanences d'accueil, de s...</td>\n",
       "      <td>['logement', 'populaire', 'plus', 'personnes',...</td>\n",
       "    </tr>\n",
       "    <tr>\n",
       "      <th>4</th>\n",
       "      <td>Secours Populaire</td>\n",
       "      <td>Accès aux vacances</td>\n",
       "      <td>https://www.secourspopulaire.fr/nos-actions/ac...</td>\n",
       "      <td>Émanciper Les vacances, essentielles, sont de ...</td>\n",
       "      <td>Pourtant, aujourd’hui encore, un enfant sur t...</td>\n",
       "      <td>['vacances', 'plus', 'familles', 'populaire', ...</td>\n",
       "    </tr>\n",
       "  </tbody>\n",
       "</table>\n",
       "</div>"
      ],
      "text/plain": [
       "                asso                       title  \\\n",
       "0  Secours Populaire        Urgences climatiques   \n",
       "1  Secours Populaire                    Conflits   \n",
       "2  Secours Populaire  Aide aux migrants-réfugiés   \n",
       "3  Secours Populaire            Aide au logement   \n",
       "4  Secours Populaire          Accès aux vacances   \n",
       "\n",
       "                                                 url  \\\n",
       "0  https://www.secourspopulaire.fr/nos-actions/ur...   \n",
       "1  https://www.secourspopulaire.fr/nos-actions/co...   \n",
       "2  https://www.secourspopulaire.fr/nos-actions/ai...   \n",
       "3  https://www.secourspopulaire.fr/nos-actions/ai...   \n",
       "4  https://www.secourspopulaire.fr/nos-actions/ac...   \n",
       "\n",
       "                                            all_text  \\\n",
       "0  Protéger Dès lors qu’une catastrophe climatiqu...   \n",
       "1  Protéger Face aux conflits armés, l’entraide e...   \n",
       "2  Protéger Chaque jour, des familles, des enfant...   \n",
       "3  Protéger Dans les permanences d'accueil, de so...   \n",
       "4  Émanciper Les vacances, essentielles, sont de ...   \n",
       "\n",
       "                                             summary  \\\n",
       "0   (Source : Haut Commissariat de l’ONU pour les...   \n",
       "1   Distribution de colis alimentaires, de kits d...   \n",
       "2   Le Secours populaire se mobilise pour les aid...   \n",
       "3   Protéger Dans les permanences d'accueil, de s...   \n",
       "4   Pourtant, aujourd’hui encore, un enfant sur t...   \n",
       "\n",
       "                                           key_words  \n",
       "0  ['populaire', 'secours populaire', 'secours', ...  \n",
       "1  ['vie', 'urgence', 'secours', 'secours populai...  \n",
       "2  ['aide', 'secours', 'bénévoles', 'populaire', ...  \n",
       "3  ['logement', 'populaire', 'plus', 'personnes',...  \n",
       "4  ['vacances', 'plus', 'familles', 'populaire', ...  "
      ]
     },
     "execution_count": 2,
     "metadata": {},
     "output_type": "execute_result"
    }
   ],
   "source": [
    "actions = pd.read_csv('actions.csv')\n",
    "actions.head()"
   ]
  },
  {
   "cell_type": "code",
   "execution_count": 3,
   "metadata": {},
   "outputs": [
    {
     "name": "stdout",
     "output_type": "stream",
     "text": [
      "<class 'pandas.core.frame.DataFrame'>\n",
      "RangeIndex: 27 entries, 0 to 26\n",
      "Data columns (total 6 columns):\n",
      " #   Column     Non-Null Count  Dtype \n",
      "---  ------     --------------  ----- \n",
      " 0   asso       27 non-null     object\n",
      " 1   title      27 non-null     object\n",
      " 2   url        27 non-null     object\n",
      " 3   all_text   27 non-null     object\n",
      " 4   summary    27 non-null     object\n",
      " 5   key_words  27 non-null     object\n",
      "dtypes: object(6)\n",
      "memory usage: 1.4+ KB\n"
     ]
    }
   ],
   "source": [
    "actions.info()"
   ]
  },
  {
   "cell_type": "code",
   "execution_count": 4,
   "metadata": {},
   "outputs": [
    {
     "data": {
      "text/plain": [
       "asso         0\n",
       "title        0\n",
       "url          0\n",
       "all_text     0\n",
       "summary      0\n",
       "key_words    0\n",
       "dtype: int64"
      ]
     },
     "execution_count": 4,
     "metadata": {},
     "output_type": "execute_result"
    }
   ],
   "source": [
    "actions.isna().sum()"
   ]
  },
  {
   "cell_type": "markdown",
   "metadata": {},
   "source": [
    "Lets try a first summary function"
   ]
  },
  {
   "cell_type": "code",
   "execution_count": 5,
   "metadata": {},
   "outputs": [
    {
     "name": "stdout",
     "output_type": "stream",
     "text": [
      " Le Secours populaire se mobilise pour les aider à reconstruire leur vie, d’abord avec une aide d’urgence, puis en les accompagnant dans leur insertion sociale. Les migrants, les réfugiés, ce sont des femmes, des hommes, des enfants qui fuient la misère, la guerre, un climat hostile et se retrouvent avec une vie à réinventer. Aide alimentaire, kits d’hygiène, vêtements, mise à l’abri… Le Secours populaire leur apporte l’aide d’urgence et le réconfort dont ils ont tant besoin. En France, comme dans tous les pays où ils ont trouvé refuge, le Secours populaire et ses partenaires dans le monde ont à cœur d’apporter une aide à la mesure d’un défi mondial. Soutien psychologique, cours de français, accès aux droits, sorties culturelles et vacances… Les bénévoles les accompagnent dans la durée pour les aider à reprendre le cours de leur vie. La chaîne de solidarité est telle que de nombreuses personnes migrantes et réfugiées s’engagent à leur tour en tant que bénévoles au Secours populaire. Au début, je n’avais pas d’endroit pour dormir et les bénévoles du Secours m’ont hébergé pendant deux ans.\n"
     ]
    },
    {
     "name": "stderr",
     "output_type": "stream",
     "text": [
      "[nltk_data] Downloading package punkt to\n",
      "[nltk_data]     C:\\Users\\nberl\\AppData\\Roaming\\nltk_data...\n",
      "[nltk_data]   Package punkt is already up-to-date!\n",
      "[nltk_data] Downloading package stopwords to\n",
      "[nltk_data]     C:\\Users\\nberl\\AppData\\Roaming\\nltk_data...\n",
      "[nltk_data]   Package stopwords is already up-to-date!\n"
     ]
    }
   ],
   "source": [
    "import nltk\n",
    "from nltk.corpus import stopwords\n",
    "from nltk.tokenize import word_tokenize, sent_tokenize\n",
    "nltk.download('punkt')\n",
    "nltk.download('stopwords')\n",
    "\n",
    "def summarize_text2(text):\n",
    "    stopWords = set(stopwords.words(\"english\"))\n",
    "    words = word_tokenize(text)\n",
    "\n",
    "    freqTable = dict()\n",
    "    for word in words:\n",
    "        word = word.lower()\n",
    "        if word not in stopWords:\n",
    "            if word in freqTable:\n",
    "                freqTable[word] += 1\n",
    "            else:\n",
    "                freqTable[word] = 1\n",
    "\n",
    "    sentences = sent_tokenize(text)\n",
    "    sentenceValue = dict()\n",
    "\n",
    "    for sentence in sentences:\n",
    "        for word, freq in freqTable.items():\n",
    "            if word in sentence.lower():\n",
    "                if sentence in sentenceValue:\n",
    "                    sentenceValue[sentence] += freq\n",
    "                else:\n",
    "                    sentenceValue[sentence] = freq\n",
    "\n",
    "    sumValues = 0\n",
    "    for sentence in sentenceValue:\n",
    "        sumValues += sentenceValue[sentence]\n",
    "\n",
    "    # Average value of a sentence from the original text\n",
    "    average = int(sumValues / len(sentenceValue))\n",
    "\n",
    "    summary = ''\n",
    "    for sentence in sentences:\n",
    "        if (sentence in sentenceValue) and (sentenceValue[sentence] > (1.2 * average)):\n",
    "            summary += \" \" + sentence\n",
    "\n",
    "    return summary\n",
    "\n",
    "# Trying our function\n",
    "text = actions.iloc[2]['all_text']\n",
    "print(summarize_text2(text))\n"
   ]
  },
  {
   "cell_type": "markdown",
   "metadata": {},
   "source": [
    "The summary is a little long, but the content is satisfactory. Let's try to limit the number of characters."
   ]
  },
  {
   "cell_type": "code",
   "execution_count": 6,
   "metadata": {},
   "outputs": [
    {
     "name": "stdout",
     "output_type": "stream",
     "text": [
      " Le Secours populaire se mobilise pour les aider à reconstruire leur vie, d’abord avec une aide d’urgence, puis en les accompagnant dans leur insertion sociale. Aide alimentaire, kits d’hygiène, vêtements, mise à l’abri… Le Secours populaire leur apporte l’aide d’urgence et le réconfort dont ils ont tant besoin. En France, comme dans tous les pays où ils ont trouvé refuge, le Secours populaire et ses partenaires dans le monde ont à cœur d’apporter une aide à la mesure d’un défi mondial.\n"
     ]
    },
    {
     "name": "stderr",
     "output_type": "stream",
     "text": [
      "[nltk_data] Downloading package punkt to\n",
      "[nltk_data]     C:\\Users\\nberl\\AppData\\Roaming\\nltk_data...\n",
      "[nltk_data]   Package punkt is already up-to-date!\n",
      "[nltk_data] Downloading package stopwords to\n",
      "[nltk_data]     C:\\Users\\nberl\\AppData\\Roaming\\nltk_data...\n",
      "[nltk_data]   Package stopwords is already up-to-date!\n"
     ]
    }
   ],
   "source": [
    "import nltk\n",
    "from nltk.corpus import stopwords\n",
    "from nltk.tokenize import word_tokenize, sent_tokenize\n",
    "nltk.download('punkt')\n",
    "nltk.download('stopwords')\n",
    "\n",
    "def summarize_text(text, max_length=500):  # Adding a max length parameter to the summary\n",
    "    stopWords = set(stopwords.words(\"french\"))\n",
    "    words = word_tokenize(text)\n",
    "\n",
    "    freqTable = dict()\n",
    "    for word in words:\n",
    "        word = word.lower()\n",
    "        if word not in stopWords:\n",
    "            if word in freqTable:\n",
    "                freqTable[word] += 1\n",
    "            else:\n",
    "                freqTable[word] = 1\n",
    "\n",
    "    sentences = sent_tokenize(text)\n",
    "    sentenceValue = dict()\n",
    "\n",
    "    for sentence in sentences:\n",
    "        for word, freq in freqTable.items():\n",
    "            if word in sentence.lower():\n",
    "                if sentence in sentenceValue:\n",
    "                    sentenceValue[sentence] += freq\n",
    "                else:\n",
    "                    sentenceValue[sentence] = freq\n",
    "\n",
    "    sumValues = 0\n",
    "    for sentence in sentenceValue:\n",
    "        sumValues += sentenceValue[sentence]\n",
    "\n",
    "    average = int(sumValues / len(sentenceValue))\n",
    "\n",
    "    summary = ''\n",
    "    for sentence in sentences:\n",
    "        if (sentence in sentenceValue) and (sentenceValue[sentence] > (1.2 * average)):\n",
    "            if len(summary) + len(sentence) <= max_length:  # Verify if the summary is still under the max length\n",
    "                summary += \" \" + sentence\n",
    "            else:\n",
    "                break  # Stop the loop if the summary is too long\n",
    "\n",
    "    return summary\n",
    "\n",
    "# Example\n",
    "text = actions.iloc[2]['all_text']\n",
    "print(summarize_text(text, 500))  # Specifying the max length\n"
   ]
  },
  {
   "cell_type": "markdown",
   "metadata": {},
   "source": [
    "La limite de caractère est bien appliqué mais ne fait que couper les phrases du texte généré. Essayons une autre méthode"
   ]
  },
  {
   "cell_type": "code",
   "execution_count": 7,
   "metadata": {},
   "outputs": [
    {
     "name": "stderr",
     "output_type": "stream",
     "text": [
      "c:\\Users\\nberl\\AppData\\Local\\Programs\\Python\\Python310\\lib\\site-packages\\tqdm\\auto.py:21: TqdmWarning: IProgress not found. Please update jupyter and ipywidgets. See https://ipywidgets.readthedocs.io/en/stable/user_install.html\n",
      "  from .autonotebook import tqdm as notebook_tqdm\n"
     ]
    }
   ],
   "source": [
    "from transformers import BartTokenizer, BartForConditionalGeneration\n",
    "\n",
    "def summarize_with_bart(text, model_name='facebook/bart-large-cnn', max_char=500):\n",
    "    # Initialize tokenizer and model\n",
    "    tokenizer = BartTokenizer.from_pretrained(model_name)\n",
    "    model = BartForConditionalGeneration.from_pretrained(model_name)\n",
    "\n",
    "    # Tokenize and encode the text\n",
    "    inputs = tokenizer([text], max_length=1024, return_tensors='pt', truncation=True)\n",
    "\n",
    "    # Model generate summary\n",
    "    summary_ids = model.generate(inputs['input_ids'], num_beams=4, max_length=max_char, early_stopping=True)\n",
    "\n",
    "    # Decode and return the summary\n",
    "    summary = tokenizer.decode(summary_ids[0], skip_special_tokens=True)\n",
    "    return summary"
   ]
  },
  {
   "cell_type": "code",
   "execution_count": 8,
   "metadata": {},
   "outputs": [
    {
     "name": "stdout",
     "output_type": "stream",
     "text": [
      "Le Secours populaire mobilise pour les aider à reconstruire leur vie. L'aide déployée par les bénévoles est une réponse à un enjeu historique. Les migrants, les réfugiés, ce sont des femmes, des hommes, des enfants.\n"
     ]
    }
   ],
   "source": [
    "text = actions.iloc[2]['all_text']\n",
    "print(summarize_with_bart(text))"
   ]
  },
  {
   "cell_type": "markdown",
   "metadata": {},
   "source": [
    "At first glance, the result is less satisfying than before."
   ]
  },
  {
   "cell_type": "markdown",
   "metadata": {},
   "source": [
    "Let's create a 'Summary' column in our DataFrame to try and improve BART summaries as a first step."
   ]
  },
  {
   "cell_type": "code",
   "execution_count": 9,
   "metadata": {},
   "outputs": [],
   "source": [
    "actions['summary'] = actions['all_text'].apply(summarize_with_bart)"
   ]
  },
  {
   "cell_type": "markdown",
   "metadata": {},
   "source": [
    "Let's try a language tool"
   ]
  },
  {
   "cell_type": "code",
   "execution_count": 10,
   "metadata": {},
   "outputs": [
    {
     "name": "stdout",
     "output_type": "stream",
     "text": [
      "\n",
      "Texte corrigé :\n",
      "Votre texte en français ici.\n"
     ]
    }
   ],
   "source": [
    "import language_tool_python\n",
    "\n",
    "def check_grammar_french(text):\n",
    "    # Creating a LanguageTool instance for French since our data is written in French\n",
    "    tool = language_tool_python.LanguageTool('fr')\n",
    "\n",
    "    # Checking grammar\n",
    "    matches = tool.check(text)\n",
    "\n",
    "    # Extract and display suggestions\n",
    "    for match in matches:\n",
    "        print(f\"Issue: {match.ruleId}, Message: {match.message}\")\n",
    "\n",
    "    # We can also obtain a corrected version of the text\n",
    "    corrected_text = tool.correct(text)\n",
    "    return corrected_text\n",
    "\n",
    "# Example\n",
    "text = \"Votre texte en français ici.\"\n",
    "corrected_text = check_grammar_french(text)\n",
    "print(\"\\nTexte corrigé :\")\n",
    "print(corrected_text)\n"
   ]
  },
  {
   "cell_type": "code",
   "execution_count": 11,
   "metadata": {},
   "outputs": [
    {
     "name": "stdout",
     "output_type": "stream",
     "text": [
      "Le Secours populaire mobilise pour les aider à reconstruire leur vie. L'aide déployée par les bénévoles est une réponse à un enjeu historique. Les migrants, les réfugiés, ce sont des femmes, des hommes, des enfants.\n"
     ]
    }
   ],
   "source": [
    "text = actions.iloc[2]['summary']\n",
    "print(check_grammar_french(text))"
   ]
  },
  {
   "cell_type": "markdown",
   "metadata": {},
   "source": [
    "The result has not really improved. So we'll keep the summaries from our first function."
   ]
  },
  {
   "cell_type": "code",
   "execution_count": 12,
   "metadata": {},
   "outputs": [],
   "source": [
    "actions['summary'] = actions['all_text'].apply(summarize_text, max_length=500)"
   ]
  },
  {
   "cell_type": "code",
   "execution_count": 13,
   "metadata": {},
   "outputs": [
    {
     "data": {
      "text/html": [
       "<div>\n",
       "<style scoped>\n",
       "    .dataframe tbody tr th:only-of-type {\n",
       "        vertical-align: middle;\n",
       "    }\n",
       "\n",
       "    .dataframe tbody tr th {\n",
       "        vertical-align: top;\n",
       "    }\n",
       "\n",
       "    .dataframe thead th {\n",
       "        text-align: right;\n",
       "    }\n",
       "</style>\n",
       "<table border=\"1\" class=\"dataframe\">\n",
       "  <thead>\n",
       "    <tr style=\"text-align: right;\">\n",
       "      <th></th>\n",
       "      <th>asso</th>\n",
       "      <th>title</th>\n",
       "      <th>url</th>\n",
       "      <th>all_text</th>\n",
       "      <th>summary</th>\n",
       "      <th>key_words</th>\n",
       "    </tr>\n",
       "  </thead>\n",
       "  <tbody>\n",
       "    <tr>\n",
       "      <th>0</th>\n",
       "      <td>Secours Populaire</td>\n",
       "      <td>Urgences climatiques</td>\n",
       "      <td>https://www.secourspopulaire.fr/nos-actions/ur...</td>\n",
       "      <td>Protéger Dès lors qu’une catastrophe climatiqu...</td>\n",
       "      <td>(Source : Haut Commissariat de l’ONU pour les...</td>\n",
       "      <td>['populaire', 'secours populaire', 'secours', ...</td>\n",
       "    </tr>\n",
       "    <tr>\n",
       "      <th>1</th>\n",
       "      <td>Secours Populaire</td>\n",
       "      <td>Conflits</td>\n",
       "      <td>https://www.secourspopulaire.fr/nos-actions/co...</td>\n",
       "      <td>Protéger Face aux conflits armés, l’entraide e...</td>\n",
       "      <td>Distribution de colis alimentaires, de kits d...</td>\n",
       "      <td>['vie', 'urgence', 'secours', 'secours populai...</td>\n",
       "    </tr>\n",
       "    <tr>\n",
       "      <th>2</th>\n",
       "      <td>Secours Populaire</td>\n",
       "      <td>Aide aux migrants-réfugiés</td>\n",
       "      <td>https://www.secourspopulaire.fr/nos-actions/ai...</td>\n",
       "      <td>Protéger Chaque jour, des familles, des enfant...</td>\n",
       "      <td>Le Secours populaire se mobilise pour les aid...</td>\n",
       "      <td>['aide', 'secours', 'bénévoles', 'populaire', ...</td>\n",
       "    </tr>\n",
       "    <tr>\n",
       "      <th>3</th>\n",
       "      <td>Secours Populaire</td>\n",
       "      <td>Aide au logement</td>\n",
       "      <td>https://www.secourspopulaire.fr/nos-actions/ai...</td>\n",
       "      <td>Protéger Dans les permanences d'accueil, de so...</td>\n",
       "      <td>Protéger Dans les permanences d'accueil, de s...</td>\n",
       "      <td>['logement', 'populaire', 'plus', 'personnes',...</td>\n",
       "    </tr>\n",
       "    <tr>\n",
       "      <th>4</th>\n",
       "      <td>Secours Populaire</td>\n",
       "      <td>Accès aux vacances</td>\n",
       "      <td>https://www.secourspopulaire.fr/nos-actions/ac...</td>\n",
       "      <td>Émanciper Les vacances, essentielles, sont de ...</td>\n",
       "      <td>Pourtant, aujourd’hui encore, un enfant sur t...</td>\n",
       "      <td>['vacances', 'plus', 'familles', 'populaire', ...</td>\n",
       "    </tr>\n",
       "  </tbody>\n",
       "</table>\n",
       "</div>"
      ],
      "text/plain": [
       "                asso                       title  \\\n",
       "0  Secours Populaire        Urgences climatiques   \n",
       "1  Secours Populaire                    Conflits   \n",
       "2  Secours Populaire  Aide aux migrants-réfugiés   \n",
       "3  Secours Populaire            Aide au logement   \n",
       "4  Secours Populaire          Accès aux vacances   \n",
       "\n",
       "                                                 url  \\\n",
       "0  https://www.secourspopulaire.fr/nos-actions/ur...   \n",
       "1  https://www.secourspopulaire.fr/nos-actions/co...   \n",
       "2  https://www.secourspopulaire.fr/nos-actions/ai...   \n",
       "3  https://www.secourspopulaire.fr/nos-actions/ai...   \n",
       "4  https://www.secourspopulaire.fr/nos-actions/ac...   \n",
       "\n",
       "                                            all_text  \\\n",
       "0  Protéger Dès lors qu’une catastrophe climatiqu...   \n",
       "1  Protéger Face aux conflits armés, l’entraide e...   \n",
       "2  Protéger Chaque jour, des familles, des enfant...   \n",
       "3  Protéger Dans les permanences d'accueil, de so...   \n",
       "4  Émanciper Les vacances, essentielles, sont de ...   \n",
       "\n",
       "                                             summary  \\\n",
       "0   (Source : Haut Commissariat de l’ONU pour les...   \n",
       "1   Distribution de colis alimentaires, de kits d...   \n",
       "2   Le Secours populaire se mobilise pour les aid...   \n",
       "3   Protéger Dans les permanences d'accueil, de s...   \n",
       "4   Pourtant, aujourd’hui encore, un enfant sur t...   \n",
       "\n",
       "                                           key_words  \n",
       "0  ['populaire', 'secours populaire', 'secours', ...  \n",
       "1  ['vie', 'urgence', 'secours', 'secours populai...  \n",
       "2  ['aide', 'secours', 'bénévoles', 'populaire', ...  \n",
       "3  ['logement', 'populaire', 'plus', 'personnes',...  \n",
       "4  ['vacances', 'plus', 'familles', 'populaire', ...  "
      ]
     },
     "execution_count": 13,
     "metadata": {},
     "output_type": "execute_result"
    }
   ],
   "source": [
    "actions.head()"
   ]
  },
  {
   "cell_type": "markdown",
   "metadata": {},
   "source": [
    "In addition to the summary, a search module based on a list of keywords would be ideal. Let's put it in place."
   ]
  },
  {
   "cell_type": "code",
   "execution_count": 14,
   "metadata": {},
   "outputs": [
    {
     "name": "stdout",
     "output_type": "stream",
     "text": [
      "['vie', 'urgence', 'secours', 'secours populaire', 'personnes', 'populaire', 'pays', 'leurs', 'aider', 'aide', 'guerre', 'droits', 'soutien', 'permet', 'sorties']\n"
     ]
    }
   ],
   "source": [
    "import nltk\n",
    "from sklearn.feature_extraction.text import TfidfVectorizer\n",
    "\n",
    "#nltk.download('stopwords')\n",
    "from nltk.corpus import stopwords\n",
    "stop_words_french = list(stopwords.words('french'))  # Convert the NLTK list to a Python list\n",
    "\n",
    "def extract_keywords_tfidf(text, num_keywords=15): #10 to 15 keywords should be good number\n",
    "    # Use tf-idf vectorizer\n",
    "    vectorizer = TfidfVectorizer(stop_words=stop_words_french, ngram_range=(1, 2))\n",
    "    tfidf_matrix = vectorizer.fit_transform([text])\n",
    "    feature_array = vectorizer.get_feature_names_out()\n",
    "    tfidf_sorting = tfidf_matrix.toarray().flatten().argsort()[-num_keywords:]\n",
    "\n",
    "    keywords = [feature_array[i] for i in tfidf_sorting[::-1]]\n",
    "    \n",
    "    return keywords\n",
    "\n",
    "# Example\n",
    "text = actions.iloc[1]['all_text']\n",
    "print(extract_keywords_tfidf(text))\n"
   ]
  },
  {
   "cell_type": "code",
   "execution_count": 15,
   "metadata": {},
   "outputs": [],
   "source": [
    "actions['key_words'] = actions['all_text'].apply(extract_keywords_tfidf)"
   ]
  },
  {
   "cell_type": "code",
   "execution_count": 16,
   "metadata": {},
   "outputs": [],
   "source": [
    "actions.loc[actions['summary'] == '', 'summary'] = actions.loc[actions['summary'] == '', 'all_text']\n"
   ]
  },
  {
   "cell_type": "code",
   "execution_count": 18,
   "metadata": {},
   "outputs": [
    {
     "data": {
      "text/plain": [
       "' (Source : Haut Commissariat de l’ONU pour les réfugiés) Inondations, tempêtes, fortes intempéries, grand froid, catastrophes naturelles ou industrielles, incendies… Les conséquences de ces drames sont plus terribles encore chez les familles en situation de pauvreté. Dès qu’un drame humanitaire se produit, un appel aux dons est lancé par le Secours populaire et des aides d’urgence sont apportées au plus vite aux sinistrés.'"
      ]
     },
     "execution_count": 18,
     "metadata": {},
     "output_type": "execute_result"
    }
   ],
   "source": [
    "actions.iloc[0]['summary']"
   ]
  },
  {
   "cell_type": "code",
   "execution_count": 38,
   "metadata": {},
   "outputs": [],
   "source": [
    "actions.to_csv('actions.csv', index=False)"
   ]
  },
  {
   "cell_type": "code",
   "execution_count": 14,
   "metadata": {},
   "outputs": [
    {
     "data": {
      "text/html": [
       "<div>\n",
       "<style scoped>\n",
       "    .dataframe tbody tr th:only-of-type {\n",
       "        vertical-align: middle;\n",
       "    }\n",
       "\n",
       "    .dataframe tbody tr th {\n",
       "        vertical-align: top;\n",
       "    }\n",
       "\n",
       "    .dataframe thead th {\n",
       "        text-align: right;\n",
       "    }\n",
       "</style>\n",
       "<table border=\"1\" class=\"dataframe\">\n",
       "  <thead>\n",
       "    <tr style=\"text-align: right;\">\n",
       "      <th></th>\n",
       "      <th>nom</th>\n",
       "      <th>activites</th>\n",
       "      <th>lib_activité</th>\n",
       "      <th>nb_etablissements</th>\n",
       "      <th>url</th>\n",
       "      <th>adresses</th>\n",
       "    </tr>\n",
       "  </thead>\n",
       "  <tbody>\n",
       "    <tr>\n",
       "      <th>0</th>\n",
       "      <td>SECOURS POPULAIRE FRANCAIS</td>\n",
       "      <td>soutenir matériellement moralement juridiqueme...</td>\n",
       "      <td>Action sociale sans hébergement n.c.a.</td>\n",
       "      <td>1</td>\n",
       "      <td>https://www.secourspopulaire.fr/</td>\n",
       "      <td>[{'num_voie': 10, 'type_voie': 'RUE', 'voie': ...</td>\n",
       "    </tr>\n",
       "    <tr>\n",
       "      <th>1</th>\n",
       "      <td>REGLES ELEMENTAIRES</td>\n",
       "      <td>aider les personnes les plus démunies à accéde...</td>\n",
       "      <td>Autres organisations fonctionnant par adhésion...</td>\n",
       "      <td>1</td>\n",
       "      <td>https://www.regleselementaires.com/</td>\n",
       "      <td>[{'cplt_2': 'LA CITE AUDACIEUSE', 'num_voie': ...</td>\n",
       "    </tr>\n",
       "    <tr>\n",
       "      <th>2</th>\n",
       "      <td>EMMAUS SOLIDARITE</td>\n",
       "      <td>développer des actions de solidarité partagées...</td>\n",
       "      <td>Hébergement social pour adultes et familles en...</td>\n",
       "      <td>11</td>\n",
       "      <td>https://www.emmaus-solidarite.org/</td>\n",
       "      <td>[{'num_voie': 10, 'type_voie': 'RUE', 'voie': ...</td>\n",
       "    </tr>\n",
       "  </tbody>\n",
       "</table>\n",
       "</div>"
      ],
      "text/plain": [
       "                          nom  \\\n",
       "0  SECOURS POPULAIRE FRANCAIS   \n",
       "1         REGLES ELEMENTAIRES   \n",
       "2           EMMAUS SOLIDARITE   \n",
       "\n",
       "                                           activites  \\\n",
       "0  soutenir matériellement moralement juridiqueme...   \n",
       "1  aider les personnes les plus démunies à accéde...   \n",
       "2  développer des actions de solidarité partagées...   \n",
       "\n",
       "                                        lib_activité  nb_etablissements  \\\n",
       "0             Action sociale sans hébergement n.c.a.                  1   \n",
       "1  Autres organisations fonctionnant par adhésion...                  1   \n",
       "2  Hébergement social pour adultes et familles en...                 11   \n",
       "\n",
       "                                   url  \\\n",
       "0     https://www.secourspopulaire.fr/   \n",
       "1  https://www.regleselementaires.com/   \n",
       "2   https://www.emmaus-solidarite.org/   \n",
       "\n",
       "                                            adresses  \n",
       "0  [{'num_voie': 10, 'type_voie': 'RUE', 'voie': ...  \n",
       "1  [{'cplt_2': 'LA CITE AUDACIEUSE', 'num_voie': ...  \n",
       "2  [{'num_voie': 10, 'type_voie': 'RUE', 'voie': ...  "
      ]
     },
     "execution_count": 14,
     "metadata": {},
     "output_type": "execute_result"
    }
   ],
   "source": [
    "assos = pd.read_csv('assos.csv')\n",
    "assos.head()"
   ]
  },
  {
   "cell_type": "markdown",
   "metadata": {},
   "source": [
    "Now we need to process our addresses for the website"
   ]
  },
  {
   "cell_type": "code",
   "execution_count": 16,
   "metadata": {},
   "outputs": [],
   "source": [
    "import ast\n",
    "\n",
    "def format_address(adresse_str):\n",
    "    try:\n",
    "        # Convert string to dictionary\n",
    "        adresses = ast.literal_eval(adresse_str)\n",
    "    except ValueError:\n",
    "        # Return an empty string if conversion fails\n",
    "        return ''\n",
    "\n",
    "    formatted_addresses = []\n",
    "    for adresse in adresses:\n",
    "        num_voie = adresse.get('num_voie', '')\n",
    "        type_voie = adresse.get('type_voie', '')\n",
    "        voie = adresse.get('voie', '')\n",
    "        commune = adresse.get('commune', '')\n",
    "        cp = adresse.get('cp', '')\n",
    "\n",
    "        formatted_address = f\"{num_voie} {type_voie} {voie}, {commune} {cp}\".strip().lower()\n",
    "        formatted_addresses.append(formatted_address)\n",
    "\n",
    "    return formatted_addresses\n",
    "\n",
    "# Applying the function to each DataFrame line\n",
    "assos['adresses_processed'] = assos['adresses'].apply(format_address)\n"
   ]
  },
  {
   "cell_type": "code",
   "execution_count": 17,
   "metadata": {},
   "outputs": [
    {
     "data": {
      "text/html": [
       "<div>\n",
       "<style scoped>\n",
       "    .dataframe tbody tr th:only-of-type {\n",
       "        vertical-align: middle;\n",
       "    }\n",
       "\n",
       "    .dataframe tbody tr th {\n",
       "        vertical-align: top;\n",
       "    }\n",
       "\n",
       "    .dataframe thead th {\n",
       "        text-align: right;\n",
       "    }\n",
       "</style>\n",
       "<table border=\"1\" class=\"dataframe\">\n",
       "  <thead>\n",
       "    <tr style=\"text-align: right;\">\n",
       "      <th></th>\n",
       "      <th>nom</th>\n",
       "      <th>activites</th>\n",
       "      <th>lib_activité</th>\n",
       "      <th>nb_etablissements</th>\n",
       "      <th>url</th>\n",
       "      <th>adresses</th>\n",
       "      <th>adresses_processed</th>\n",
       "    </tr>\n",
       "  </thead>\n",
       "  <tbody>\n",
       "    <tr>\n",
       "      <th>0</th>\n",
       "      <td>SECOURS POPULAIRE FRANCAIS</td>\n",
       "      <td>soutenir matériellement moralement juridiqueme...</td>\n",
       "      <td>Action sociale sans hébergement n.c.a.</td>\n",
       "      <td>1</td>\n",
       "      <td>https://www.secourspopulaire.fr/</td>\n",
       "      <td>[{'num_voie': 10, 'type_voie': 'RUE', 'voie': ...</td>\n",
       "      <td>[10 rue paul bert, belfort 90000, 131  de pari...</td>\n",
       "    </tr>\n",
       "    <tr>\n",
       "      <th>1</th>\n",
       "      <td>REGLES ELEMENTAIRES</td>\n",
       "      <td>aider les personnes les plus démunies à accéde...</td>\n",
       "      <td>Autres organisations fonctionnant par adhésion...</td>\n",
       "      <td>1</td>\n",
       "      <td>https://www.regleselementaires.com/</td>\n",
       "      <td>[{'cplt_2': 'LA CITE AUDACIEUSE', 'num_voie': ...</td>\n",
       "      <td>[9 rue de vaugirard, paris 6 75006, 74  denfer...</td>\n",
       "    </tr>\n",
       "    <tr>\n",
       "      <th>2</th>\n",
       "      <td>EMMAUS SOLIDARITE</td>\n",
       "      <td>développer des actions de solidarité partagées...</td>\n",
       "      <td>Hébergement social pour adultes et familles en...</td>\n",
       "      <td>11</td>\n",
       "      <td>https://www.emmaus-solidarite.org/</td>\n",
       "      <td>[{'num_voie': 10, 'type_voie': 'RUE', 'voie': ...</td>\n",
       "      <td>[10 rue de la baignade, ivry-sur-seine 94200, ...</td>\n",
       "    </tr>\n",
       "  </tbody>\n",
       "</table>\n",
       "</div>"
      ],
      "text/plain": [
       "                          nom  \\\n",
       "0  SECOURS POPULAIRE FRANCAIS   \n",
       "1         REGLES ELEMENTAIRES   \n",
       "2           EMMAUS SOLIDARITE   \n",
       "\n",
       "                                           activites  \\\n",
       "0  soutenir matériellement moralement juridiqueme...   \n",
       "1  aider les personnes les plus démunies à accéde...   \n",
       "2  développer des actions de solidarité partagées...   \n",
       "\n",
       "                                        lib_activité  nb_etablissements  \\\n",
       "0             Action sociale sans hébergement n.c.a.                  1   \n",
       "1  Autres organisations fonctionnant par adhésion...                  1   \n",
       "2  Hébergement social pour adultes et familles en...                 11   \n",
       "\n",
       "                                   url  \\\n",
       "0     https://www.secourspopulaire.fr/   \n",
       "1  https://www.regleselementaires.com/   \n",
       "2   https://www.emmaus-solidarite.org/   \n",
       "\n",
       "                                            adresses  \\\n",
       "0  [{'num_voie': 10, 'type_voie': 'RUE', 'voie': ...   \n",
       "1  [{'cplt_2': 'LA CITE AUDACIEUSE', 'num_voie': ...   \n",
       "2  [{'num_voie': 10, 'type_voie': 'RUE', 'voie': ...   \n",
       "\n",
       "                                  adresses_processed  \n",
       "0  [10 rue paul bert, belfort 90000, 131  de pari...  \n",
       "1  [9 rue de vaugirard, paris 6 75006, 74  denfer...  \n",
       "2  [10 rue de la baignade, ivry-sur-seine 94200, ...  "
      ]
     },
     "execution_count": 17,
     "metadata": {},
     "output_type": "execute_result"
    }
   ],
   "source": [
    "assos.head()"
   ]
  },
  {
   "cell_type": "code",
   "execution_count": 18,
   "metadata": {},
   "outputs": [],
   "source": [
    "assos.to_csv('assos.csv', index=False)"
   ]
  }
 ],
 "metadata": {
  "kernelspec": {
   "display_name": "Python 3",
   "language": "python",
   "name": "python3"
  },
  "language_info": {
   "codemirror_mode": {
    "name": "ipython",
    "version": 3
   },
   "file_extension": ".py",
   "mimetype": "text/x-python",
   "name": "python",
   "nbconvert_exporter": "python",
   "pygments_lexer": "ipython3",
   "version": "3.10.6"
  }
 },
 "nbformat": 4,
 "nbformat_minor": 2
}
